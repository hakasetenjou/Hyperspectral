{
  "nbformat": 4,
  "nbformat_minor": 0,
  "metadata": {
    "colab": {
      "name": "Whiteleddenoise.ipynb",
      "provenance": [],
      "authorship_tag": "ABX9TyOJl8zeFVMHpwZIhShwjjFb",
      "include_colab_link": true
    },
    "kernelspec": {
      "name": "python3",
      "display_name": "Python 3"
    }
  },
  "cells": [
    {
      "cell_type": "markdown",
      "metadata": {
        "id": "view-in-github",
        "colab_type": "text"
      },
      "source": [
        "<a href=\"https://colab.research.google.com/github/hakasetenjou/Hyperspectral/blob/master/Whiteleddenoise.ipynb\" target=\"_parent\"><img src=\"https://colab.research.google.com/assets/colab-badge.svg\" alt=\"Open In Colab\"/></a>"
      ]
    },
    {
      "cell_type": "code",
      "metadata": {
        "id": "eR4NTcSD0yIE",
        "colab_type": "code",
        "colab": {}
      },
      "source": [
        " import numpy as np\n",
        "import matplotlib"
      ],
      "execution_count": null,
      "outputs": []
    },
    {
      "cell_type": "markdown",
      "metadata": {
        "id": "0aSdnOQUDDTf",
        "colab_type": "text"
      },
      "source": [
        " Read raw spectrum data from JSON API URL"
      ]
    },
    {
      "cell_type": "code",
      "metadata": {
        "id": "u-BMoCgjDM7O",
        "colab_type": "code",
        "colab": {}
      },
      "source": [
        " # load dataset\n",
        "raw_pectrum = read_csv('../input/sonar.all-data.csv', header=None)\n",
        " \n",
        "json_url = urlopen(url)\n",
        "data = json.loads(json_url.read())\n",
        "print data"
      ],
      "execution_count": null,
      "outputs": []
    },
    {
      "cell_type": "markdown",
      "metadata": {
        "id": "4FD4L6krDWyq",
        "colab_type": "text"
      },
      "source": [
        " Perform dark spectrum and baseline substraction to get clean spectrum"
      ]
    },
    {
      "cell_type": "code",
      "metadata": {
        "id": "S_zDDbKPDiYI",
        "colab_type": "code",
        "colab": {}
      },
      "source": [
        "Clean_spectrum=raw_spectrum-dark_spectrum-baseline"
      ],
      "execution_count": null,
      "outputs": []
    },
    {
      "cell_type": "markdown",
      "metadata": {
        "id": "BazjFig-EDNG",
        "colab_type": "text"
      },
      "source": [
        "Return the baseline and clean spectrum using JSON POST"
      ]
    },
    {
      "cell_type": "code",
      "metadata": {
        "id": "zIooxzSdEMft",
        "colab_type": "code",
        "colab": {}
      },
      "source": [
        ""
      ],
      "execution_count": null,
      "outputs": []
    }
  ]
}